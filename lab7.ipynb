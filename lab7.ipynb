{
 "cells": [
  {
   "cell_type": "markdown",
   "metadata": {},
   "source": [
    "## Ejercicio 3\n",
    "Escriba un programa que calcule el valor esperado de una variable aleatoria exponencial utilizando el método estratificado. Escoja tres estratos (intervalos) de 0 a 1, de 1 a 3, y de 3 a infinito."
   ]
  },
  {
   "cell_type": "code",
   "execution_count": 12,
   "metadata": {},
   "outputs": [
    {
     "name": "stdout",
     "output_type": "stream",
     "text": [
      "Expected value of the exponential random variable using stratified method: 0.7537818734456077\n"
     ]
    }
   ],
   "source": [
    "import numpy as np\n",
    "\n",
    "# Define the exponential distribution parameter (lambda)\n",
    "lambda_exp = 1.0\n",
    "\n",
    "# Define the stratified intervals\n",
    "strata = [(0, 1), (1, 3), (3, np.inf)]\n",
    "\n",
    "# Function to calculate the expected value in a given interval for an exponential distribution\n",
    "def expected_value_exponential(lambda_exp, a, b):\n",
    "    if b == np.inf:\n",
    "        # For the last stratum (3, inf), we calculate the integral from a to infinity\n",
    "        return (1 / lambda_exp) * np.exp(-lambda_exp * a) + a\n",
    "    else:\n",
    "        # For finite intervals, we integrate the product of x * f(x) from a to b\n",
    "        return (1 / lambda_exp) * (np.exp(-lambda_exp * a) - np.exp(-lambda_exp * b)) + \\\n",
    "               a * (np.exp(-lambda_exp * a) - np.exp(-lambda_exp * b))\n",
    "\n",
    "# Function to calculate the probability mass in a given interval\n",
    "def probability_mass_exponential(lambda_exp, a, b):\n",
    "    if b == np.inf:\n",
    "        return np.exp(-lambda_exp * a)\n",
    "    else:\n",
    "        return np.exp(-lambda_exp * a) - np.exp(-lambda_exp * b)\n",
    "\n",
    "# Calculate the expected value for each stratum\n",
    "expected_values = [\n",
    "    probability_mass_exponential(lambda_exp, a, b) * expected_value_exponential(lambda_exp, a, b)\n",
    "    for a, b in strata\n",
    "]\n",
    "\n",
    "# Combine the results to get the overall expected value\n",
    "overall_expected_value = sum(expected_values)\n",
    "\n",
    "print(\"Expected value of the exponential random variable using stratified method:\", overall_expected_value)\n"
   ]
  }
 ],
 "metadata": {
  "kernelspec": {
   "display_name": "base",
   "language": "python",
   "name": "python3"
  },
  "language_info": {
   "codemirror_mode": {
    "name": "ipython",
    "version": 3
   },
   "file_extension": ".py",
   "mimetype": "text/x-python",
   "name": "python",
   "nbconvert_exporter": "python",
   "pygments_lexer": "ipython3",
   "version": "3.12.4"
  }
 },
 "nbformat": 4,
 "nbformat_minor": 2
}
